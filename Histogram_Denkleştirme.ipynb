{
  "nbformat": 4,
  "nbformat_minor": 0,
  "metadata": {
    "colab": {
      "provenance": [],
      "authorship_tag": "ABX9TyP5VuunlRoquIoa7aGzXKYk",
      "include_colab_link": true
    },
    "kernelspec": {
      "name": "python3",
      "display_name": "Python 3"
    },
    "language_info": {
      "name": "python"
    }
  },
  "cells": [
    {
      "cell_type": "markdown",
      "metadata": {
        "id": "view-in-github",
        "colab_type": "text"
      },
      "source": [
        "<a href=\"https://colab.research.google.com/github/berkayberatsonmez/Image_Processing/blob/main/Histogram_Denkle%C5%9Ftirme.ipynb\" target=\"_parent\"><img src=\"https://colab.research.google.com/assets/colab-badge.svg\" alt=\"Open In Colab\"/></a>"
      ]
    },
    {
      "cell_type": "code",
      "execution_count": null,
      "metadata": {
        "id": "x6C0imORDPLw"
      },
      "outputs": [],
      "source": [
        "import random as rd\n",
        "import pandas as pd"
      ]
    },
    {
      "cell_type": "code",
      "source": [
        "print(\"Enter pixel width size: \")\n",
        "pixel_width = int(input())\n",
        "print(\"Enter pixel height size: \")\n",
        "pixel_height = int(input())\n",
        "MN = pixel_height * pixel_width\n",
        "print(\"MN:\",MN)"
      ],
      "metadata": {
        "colab": {
          "base_uri": "https://localhost:8080/"
        },
        "id": "EJF-zoRAL7mA",
        "outputId": "c353ff7f-c012-4bf1-9b42-89d253bbb997"
      },
      "execution_count": null,
      "outputs": [
        {
          "output_type": "stream",
          "name": "stdout",
          "text": [
            "Enter pixel width size: \n",
            "64\n",
            "Enter pixel height size: \n",
            "64\n",
            "MN: 4096\n"
          ]
        }
      ]
    },
    {
      "cell_type": "code",
      "source": [
        "print(\"Enter bit size: \")\n",
        "bit = int(input())\n",
        "bit = 2 ** bit\n",
        "print(\"L:\", bit)"
      ],
      "metadata": {
        "colab": {
          "base_uri": "https://localhost:8080/"
        },
        "id": "YnLce8iUDbn6",
        "outputId": "8595b8e1-22f0-4354-d754-3780d20e618a"
      },
      "execution_count": null,
      "outputs": [
        {
          "output_type": "stream",
          "name": "stdout",
          "text": [
            "Enter bit size: \n",
            "3\n",
            "L: 8\n"
          ]
        }
      ]
    },
    {
      "cell_type": "code",
      "source": [
        "rk = []\n",
        "for i in range(bit):\n",
        "    rk.append(i)\n",
        "rk"
      ],
      "metadata": {
        "colab": {
          "base_uri": "https://localhost:8080/"
        },
        "id": "a1lvaZiKD7gp",
        "outputId": "13a2fcd0-5e91-474d-f228-8725a0e8310d"
      },
      "execution_count": null,
      "outputs": [
        {
          "output_type": "execute_result",
          "data": {
            "text/plain": [
              "[0, 1, 2, 3, 4, 5, 6, 7]"
            ]
          },
          "metadata": {},
          "execution_count": 369
        }
      ]
    },
    {
      "cell_type": "code",
      "source": [
        "nk = []\n",
        "for i in range(bit):\n",
        "    if bit == 1:\n",
        "        nk.append(MN)\n",
        "    else:\n",
        "        nk_value = rd.randint(0,(MN - bit))\n",
        "        nk.append(nk_value)\n",
        "        MN = MN - nk_value\n",
        "        bit = bit - 1\n",
        "nk"
      ],
      "metadata": {
        "colab": {
          "base_uri": "https://localhost:8080/"
        },
        "id": "PA4-8ESzGCXh",
        "outputId": "be5ddaa2-d9fc-44df-d896-d6fd55bed4d6"
      },
      "execution_count": null,
      "outputs": [
        {
          "output_type": "execute_result",
          "data": {
            "text/plain": [
              "[2213, 239, 1177, 155, 98, 85, 19, 110]"
            ]
          },
          "metadata": {},
          "execution_count": 370
        }
      ]
    },
    {
      "cell_type": "code",
      "source": [
        "histogram = dict(zip(rk,nk))\n",
        "histogram"
      ],
      "metadata": {
        "id": "sl6PSxYgGAkW",
        "colab": {
          "base_uri": "https://localhost:8080/"
        },
        "outputId": "bf591181-1fc2-4e80-d458-482040660504"
      },
      "execution_count": null,
      "outputs": [
        {
          "output_type": "execute_result",
          "data": {
            "text/plain": [
              "{0: 2213, 1: 239, 2: 1177, 3: 155, 4: 98, 5: 85, 6: 19, 7: 110}"
            ]
          },
          "metadata": {},
          "execution_count": 371
        }
      ]
    },
    {
      "cell_type": "code",
      "source": [
        "#pr(rk) = nk/MN\n",
        "pr_rk = []\n",
        "for i in range(len(nk)):\n",
        "    pr = nk[i] / (pixel_height * pixel_width)\n",
        "    pr_rk.append(pr)\n",
        "pr_rk"
      ],
      "metadata": {
        "colab": {
          "base_uri": "https://localhost:8080/"
        },
        "id": "OR3KN_kxLI76",
        "outputId": "d7f8d0c4-e010-4d10-f759-ef9bdc2fb866"
      },
      "execution_count": null,
      "outputs": [
        {
          "output_type": "execute_result",
          "data": {
            "text/plain": [
              "[0.540283203125,\n",
              " 0.058349609375,\n",
              " 0.287353515625,\n",
              " 0.037841796875,\n",
              " 0.02392578125,\n",
              " 0.020751953125,\n",
              " 0.004638671875,\n",
              " 0.02685546875]"
            ]
          },
          "metadata": {},
          "execution_count": 372
        }
      ]
    },
    {
      "cell_type": "code",
      "source": [
        "df = pd.DataFrame(\n",
        "    {'rk': rk,\n",
        "     'nk': nk,\n",
        "     'pr(rk) = nk/MN': pr_rk\n",
        "    }).set_index('rk')\n",
        "df"
      ],
      "metadata": {
        "colab": {
          "base_uri": "https://localhost:8080/",
          "height": 331
        },
        "id": "nXI1STLH2Bh4",
        "outputId": "e6ab185f-311d-4570-d75f-84190de412c6"
      },
      "execution_count": null,
      "outputs": [
        {
          "output_type": "execute_result",
          "data": {
            "text/plain": [
              "      nk  pr(rk) = nk/MN\n",
              "rk                      \n",
              "0   2213        0.540283\n",
              "1    239        0.058350\n",
              "2   1177        0.287354\n",
              "3    155        0.037842\n",
              "4     98        0.023926\n",
              "5     85        0.020752\n",
              "6     19        0.004639\n",
              "7    110        0.026855"
            ],
            "text/html": [
              "\n",
              "  <div id=\"df-a09e166c-4eb6-4e0b-87bc-97ba8eaf9b64\">\n",
              "    <div class=\"colab-df-container\">\n",
              "      <div>\n",
              "<style scoped>\n",
              "    .dataframe tbody tr th:only-of-type {\n",
              "        vertical-align: middle;\n",
              "    }\n",
              "\n",
              "    .dataframe tbody tr th {\n",
              "        vertical-align: top;\n",
              "    }\n",
              "\n",
              "    .dataframe thead th {\n",
              "        text-align: right;\n",
              "    }\n",
              "</style>\n",
              "<table border=\"1\" class=\"dataframe\">\n",
              "  <thead>\n",
              "    <tr style=\"text-align: right;\">\n",
              "      <th></th>\n",
              "      <th>nk</th>\n",
              "      <th>pr(rk) = nk/MN</th>\n",
              "    </tr>\n",
              "    <tr>\n",
              "      <th>rk</th>\n",
              "      <th></th>\n",
              "      <th></th>\n",
              "    </tr>\n",
              "  </thead>\n",
              "  <tbody>\n",
              "    <tr>\n",
              "      <th>0</th>\n",
              "      <td>2213</td>\n",
              "      <td>0.540283</td>\n",
              "    </tr>\n",
              "    <tr>\n",
              "      <th>1</th>\n",
              "      <td>239</td>\n",
              "      <td>0.058350</td>\n",
              "    </tr>\n",
              "    <tr>\n",
              "      <th>2</th>\n",
              "      <td>1177</td>\n",
              "      <td>0.287354</td>\n",
              "    </tr>\n",
              "    <tr>\n",
              "      <th>3</th>\n",
              "      <td>155</td>\n",
              "      <td>0.037842</td>\n",
              "    </tr>\n",
              "    <tr>\n",
              "      <th>4</th>\n",
              "      <td>98</td>\n",
              "      <td>0.023926</td>\n",
              "    </tr>\n",
              "    <tr>\n",
              "      <th>5</th>\n",
              "      <td>85</td>\n",
              "      <td>0.020752</td>\n",
              "    </tr>\n",
              "    <tr>\n",
              "      <th>6</th>\n",
              "      <td>19</td>\n",
              "      <td>0.004639</td>\n",
              "    </tr>\n",
              "    <tr>\n",
              "      <th>7</th>\n",
              "      <td>110</td>\n",
              "      <td>0.026855</td>\n",
              "    </tr>\n",
              "  </tbody>\n",
              "</table>\n",
              "</div>\n",
              "      <button class=\"colab-df-convert\" onclick=\"convertToInteractive('df-a09e166c-4eb6-4e0b-87bc-97ba8eaf9b64')\"\n",
              "              title=\"Convert this dataframe to an interactive table.\"\n",
              "              style=\"display:none;\">\n",
              "        \n",
              "  <svg xmlns=\"http://www.w3.org/2000/svg\" height=\"24px\"viewBox=\"0 0 24 24\"\n",
              "       width=\"24px\">\n",
              "    <path d=\"M0 0h24v24H0V0z\" fill=\"none\"/>\n",
              "    <path d=\"M18.56 5.44l.94 2.06.94-2.06 2.06-.94-2.06-.94-.94-2.06-.94 2.06-2.06.94zm-11 1L8.5 8.5l.94-2.06 2.06-.94-2.06-.94L8.5 2.5l-.94 2.06-2.06.94zm10 10l.94 2.06.94-2.06 2.06-.94-2.06-.94-.94-2.06-.94 2.06-2.06.94z\"/><path d=\"M17.41 7.96l-1.37-1.37c-.4-.4-.92-.59-1.43-.59-.52 0-1.04.2-1.43.59L10.3 9.45l-7.72 7.72c-.78.78-.78 2.05 0 2.83L4 21.41c.39.39.9.59 1.41.59.51 0 1.02-.2 1.41-.59l7.78-7.78 2.81-2.81c.8-.78.8-2.07 0-2.86zM5.41 20L4 18.59l7.72-7.72 1.47 1.35L5.41 20z\"/>\n",
              "  </svg>\n",
              "      </button>\n",
              "      \n",
              "  <style>\n",
              "    .colab-df-container {\n",
              "      display:flex;\n",
              "      flex-wrap:wrap;\n",
              "      gap: 12px;\n",
              "    }\n",
              "\n",
              "    .colab-df-convert {\n",
              "      background-color: #E8F0FE;\n",
              "      border: none;\n",
              "      border-radius: 50%;\n",
              "      cursor: pointer;\n",
              "      display: none;\n",
              "      fill: #1967D2;\n",
              "      height: 32px;\n",
              "      padding: 0 0 0 0;\n",
              "      width: 32px;\n",
              "    }\n",
              "\n",
              "    .colab-df-convert:hover {\n",
              "      background-color: #E2EBFA;\n",
              "      box-shadow: 0px 1px 2px rgba(60, 64, 67, 0.3), 0px 1px 3px 1px rgba(60, 64, 67, 0.15);\n",
              "      fill: #174EA6;\n",
              "    }\n",
              "\n",
              "    [theme=dark] .colab-df-convert {\n",
              "      background-color: #3B4455;\n",
              "      fill: #D2E3FC;\n",
              "    }\n",
              "\n",
              "    [theme=dark] .colab-df-convert:hover {\n",
              "      background-color: #434B5C;\n",
              "      box-shadow: 0px 1px 3px 1px rgba(0, 0, 0, 0.15);\n",
              "      filter: drop-shadow(0px 1px 2px rgba(0, 0, 0, 0.3));\n",
              "      fill: #FFFFFF;\n",
              "    }\n",
              "  </style>\n",
              "\n",
              "      <script>\n",
              "        const buttonEl =\n",
              "          document.querySelector('#df-a09e166c-4eb6-4e0b-87bc-97ba8eaf9b64 button.colab-df-convert');\n",
              "        buttonEl.style.display =\n",
              "          google.colab.kernel.accessAllowed ? 'block' : 'none';\n",
              "\n",
              "        async function convertToInteractive(key) {\n",
              "          const element = document.querySelector('#df-a09e166c-4eb6-4e0b-87bc-97ba8eaf9b64');\n",
              "          const dataTable =\n",
              "            await google.colab.kernel.invokeFunction('convertToInteractive',\n",
              "                                                     [key], {});\n",
              "          if (!dataTable) return;\n",
              "\n",
              "          const docLinkHtml = 'Like what you see? Visit the ' +\n",
              "            '<a target=\"_blank\" href=https://colab.research.google.com/notebooks/data_table.ipynb>data table notebook</a>'\n",
              "            + ' to learn more about interactive tables.';\n",
              "          element.innerHTML = '';\n",
              "          dataTable['output_type'] = 'display_data';\n",
              "          await google.colab.output.renderOutput(dataTable, element);\n",
              "          const docLink = document.createElement('div');\n",
              "          docLink.innerHTML = docLinkHtml;\n",
              "          element.appendChild(docLink);\n",
              "        }\n",
              "      </script>\n",
              "    </div>\n",
              "  </div>\n",
              "  "
            ]
          },
          "metadata": {},
          "execution_count": 393
        }
      ]
    },
    {
      "cell_type": "code",
      "source": [
        "s = []\n",
        "for i in range(len(pr_rk)):\n",
        "\n",
        "    T_r = (len(pr_rk) - 1) * sum(pr_rk[:i + 1])\n",
        "    s.append(T_r)\n",
        "s"
      ],
      "metadata": {
        "colab": {
          "base_uri": "https://localhost:8080/"
        },
        "id": "scmLFLSCNn4o",
        "outputId": "327aea41-a19a-46e7-d620-13841d602272"
      },
      "execution_count": null,
      "outputs": [
        {
          "output_type": "execute_result",
          "data": {
            "text/plain": [
              "[3.781982421875,\n",
              " 4.1904296875,\n",
              " 6.201904296875,\n",
              " 6.466796875,\n",
              " 6.63427734375,\n",
              " 6.779541015625,\n",
              " 6.81201171875,\n",
              " 7.0]"
            ]
          },
          "metadata": {},
          "execution_count": 373
        }
      ]
    },
    {
      "cell_type": "code",
      "source": [
        "s_numbers = dict(zip(rk,s))\n",
        "s_numbers"
      ],
      "metadata": {
        "colab": {
          "base_uri": "https://localhost:8080/"
        },
        "id": "INUbwr5ORTLE",
        "outputId": "12a708d9-0fda-492f-ccf1-09f094564e41"
      },
      "execution_count": null,
      "outputs": [
        {
          "output_type": "execute_result",
          "data": {
            "text/plain": [
              "{0: 3.781982421875,\n",
              " 1: 4.1904296875,\n",
              " 2: 6.201904296875,\n",
              " 3: 6.466796875,\n",
              " 4: 6.63427734375,\n",
              " 5: 6.779541015625,\n",
              " 6: 6.81201171875,\n",
              " 7: 7.0}"
            ]
          },
          "metadata": {},
          "execution_count": 374
        }
      ]
    },
    {
      "cell_type": "code",
      "source": [
        "ps_sk = []\n",
        "for i in range(len(s)):\n",
        "    rounded = round(s[i])\n",
        "    ps_sk.append(rounded)\n",
        "ps_sk"
      ],
      "metadata": {
        "colab": {
          "base_uri": "https://localhost:8080/"
        },
        "id": "yrQdyPE2ba22",
        "outputId": "a727d499-2a1d-4243-c81c-a66544c82918"
      },
      "execution_count": null,
      "outputs": [
        {
          "output_type": "execute_result",
          "data": {
            "text/plain": [
              "[4, 4, 6, 6, 7, 7, 7, 7]"
            ]
          },
          "metadata": {},
          "execution_count": 375
        }
      ]
    },
    {
      "cell_type": "code",
      "source": [
        "sk = []\n",
        "count = 0\n",
        "for i in range(0,len(ps_sk) - 1):\n",
        "    if ps_sk[i] == ps_sk[i + 1]:\n",
        "        count += 1\n",
        "        sk.append(0)\n",
        "    else:\n",
        "        sk.append(sum(pr_rk[i-count:i + 1]))\n",
        "        count = 0\n",
        "sk.append(sum(pr_rk[len(ps_sk)-count - 1:len(ps_sk)]))        \n",
        "sk"
      ],
      "metadata": {
        "colab": {
          "base_uri": "https://localhost:8080/"
        },
        "id": "sMJr62IddUKU",
        "outputId": "1978c37f-4a4c-4539-8caa-2af8b32865be"
      },
      "execution_count": null,
      "outputs": [
        {
          "output_type": "execute_result",
          "data": {
            "text/plain": [
              "[0, 0.5986328125, 0, 0.3251953125, 0, 0, 0, 0.076171875]"
            ]
          },
          "metadata": {},
          "execution_count": 376
        }
      ]
    },
    {
      "cell_type": "code",
      "source": [
        "import matplotlib.pyplot as plt"
      ],
      "metadata": {
        "id": "oo4PzDURZ8Dq"
      },
      "execution_count": null,
      "outputs": []
    },
    {
      "cell_type": "code",
      "source": [
        "plt.plot(rk, pr_rk, 'bD', label='pr_rk values')\n",
        "plt.legend()\n",
        "plt.show()"
      ],
      "metadata": {
        "colab": {
          "base_uri": "https://localhost:8080/",
          "height": 265
        },
        "id": "tSbtzZ4batc-",
        "outputId": "2b1c839a-aaf0-4c36-f88f-c46f981a8d73"
      },
      "execution_count": null,
      "outputs": [
        {
          "output_type": "display_data",
          "data": {
            "text/plain": [
              "<Figure size 432x288 with 1 Axes>"
            ],
            "image/png": "[encoded data removed]"
          },
          "metadata": {
            "needs_background": "light"
          }
        }
      ]
    },
    {
      "cell_type": "code",
      "source": [
        "plt.plot(rk, s, '-gD', label='s values')\n",
        "plt.legend()\n",
        "plt.show()"
      ],
      "metadata": {
        "colab": {
          "base_uri": "https://localhost:8080/",
          "height": 265
        },
        "id": "Nbg7qE-yZ8ff",
        "outputId": "9b3c4723-6141-41bc-f712-99404b03cbd7"
      },
      "execution_count": null,
      "outputs": [
        {
          "output_type": "display_data",
          "data": {
            "text/plain": [
              "<Figure size 432x288 with 1 Axes>"
            ],
            "image/png": "[encoded data removed]"
          },
          "metadata": {
            "needs_background": "light"
          }
        }
      ]
    },
    {
      "cell_type": "code",
      "source": [
        "plt.plot(rk, sk, 'rD', label='sk values')\n",
        "plt.legend()\n",
        "plt.show()"
      ],
      "metadata": {
        "colab": {
          "base_uri": "https://localhost:8080/",
          "height": 265
        },
        "id": "0Fv1-V0Ubu5d",
        "outputId": "848095b9-1047-42c3-d527-fbed2d991aff"
      },
      "execution_count": null,
      "outputs": [
        {
          "output_type": "display_data",
          "data": {
            "text/plain": [
              "<Figure size 432x288 with 1 Axes>"
            ],
            "image/png": "[encoded data removed]"
          },
          "metadata": {
            "needs_background": "light"
          }
        }
      ]
    }
  ]
}
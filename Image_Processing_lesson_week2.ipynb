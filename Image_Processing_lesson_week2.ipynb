{
  "nbformat": 4,
  "nbformat_minor": 0,
  "metadata": {
    "colab": {
      "provenance": [],
      "authorship_tag": "ABX9TyPFQRsIKX5ss8tF3Lc4XiUG",
      "include_colab_link": true
    },
    "kernelspec": {
      "name": "python3",
      "display_name": "Python 3"
    },
    "language_info": {
      "name": "python"
    }
  },
  "cells": [
    {
      "cell_type": "markdown",
      "metadata": {
        "id": "view-in-github",
        "colab_type": "text"
      },
      "source": [
        "<a href=\"https://colab.research.google.com/github/berkayberatsonmez/Image_Processing/blob/main/Image_Processing_lesson_week2.ipynb\" target=\"_parent\"><img src=\"https://colab.research.google.com/assets/colab-badge.svg\" alt=\"Open In Colab\"/></a>"
      ]
    },
    {
      "cell_type": "markdown",
      "source": [
        "**Python’a Giriş**"
      ],
      "metadata": {
        "id": "QY8E59xQK85_"
      }
    },
    {
      "cell_type": "markdown",
      "source": [
        "Kurulumun gerçekleştirilmesinin ardından arama\n",
        "kısmına ‘Anaconda prompt (anaconda3)’ yazınız."
      ],
      "metadata": {
        "id": "y97U4ZE8LCQS"
      }
    },
    {
      "cell_type": "markdown",
      "source": [
        "► Şimdi projemizi çalıştırabileceğimiz bir ortam\n",
        "oluşturalım. Bu ortama ‘Environment’ denmektedir.\n",
        "Bu işlem için yazacağımız kod satırı:"
      ],
      "metadata": {
        "id": "rfgaQtZGLIci"
      }
    },
    {
      "cell_type": "code",
      "source": [
        "conda create - n <enviroment_name> python=3.6.4"
      ],
      "metadata": {
        "id": "DgJpt_UzK-o-"
      },
      "execution_count": null,
      "outputs": []
    },
    {
      "cell_type": "markdown",
      "source": [
        "Kurduğumuz environment’i aktifleştirmek için gerekli\n",
        "kod satırı:"
      ],
      "metadata": {
        "id": "mNpurEAILNuD"
      }
    },
    {
      "cell_type": "code",
      "source": [
        "conda activate environment_name"
      ],
      "metadata": {
        "id": "fAQh0JH7LOVg"
      },
      "execution_count": null,
      "outputs": []
    },
    {
      "cell_type": "markdown",
      "source": [
        "Sonrasında sıklıkla kullanacağımız gerekli birkaç\n",
        "kütüphaneyi ve Jupyter Notebook’u yükleyelim. Bu\n",
        "işlemler için gerekli kod satırları:"
      ],
      "metadata": {
        "id": "960XojMuLPn1"
      }
    },
    {
      "cell_type": "code",
      "source": [
        "pip install numpy\n",
        "pip install numpy\n",
        "pip install jupyter notebook"
      ],
      "metadata": {
        "id": "mkjLUV1TLRET"
      },
      "execution_count": null,
      "outputs": []
    },
    {
      "cell_type": "markdown",
      "source": [
        "Kurduğunuz Python sürümünü kontrol etmek için\n",
        "gerekli kod satırı:"
      ],
      "metadata": {
        "id": "GSJNslhJLUCh"
      }
    },
    {
      "cell_type": "code",
      "source": [
        "> Python –version"
      ],
      "metadata": {
        "id": "fmLWjHXSLVTe"
      },
      "execution_count": null,
      "outputs": []
    },
    {
      "cell_type": "markdown",
      "source": [
        "https://sourceforge.net/projects/opencvlibrary/\n",
        "linkinden OpenCV kurulumunu gerçekleştiriniz ve\n",
        "ardından komut satırına şu kodu yazınız:\n"
      ],
      "metadata": {
        "id": "g7V7tfGYLW43"
      }
    },
    {
      "cell_type": "code",
      "source": [
        "conda install -c conda-forge opencv"
      ],
      "metadata": {
        "id": "JIZvslMYLY5f"
      },
      "execution_count": null,
      "outputs": []
    },
    {
      "cell_type": "markdown",
      "source": [
        "Yüklemenin başarılı olup olmadığını kontrol etmek\n",
        "için tekrar komut satırına giriyoruz ve alt kısımdaki\n",
        "kodları çalıştırıyoruz:"
      ],
      "metadata": {
        "id": "uVR4AB-2LahS"
      }
    },
    {
      "cell_type": "code",
      "source": [
        "python,\n",
        "import cv2\n",
        "cv2.__version__"
      ],
      "metadata": {
        "id": "bWEyfZibLbyv"
      },
      "execution_count": null,
      "outputs": []
    },
    {
      "cell_type": "markdown",
      "source": [
        "Artık jupyter notebook’u açabiliriz. Bu işlem için\n",
        "Anaconda prompt ekranında ‘cd’ komutu ile gerekli\n",
        "dizine ulaştıktan sonra şu komutu yazınız:"
      ],
      "metadata": {
        "id": "JqqZy11ELff0"
      }
    },
    {
      "cell_type": "code",
      "source": [
        "Jupyter notebook"
      ],
      "metadata": {
        "id": "2e-A_zzWLghP"
      },
      "execution_count": null,
      "outputs": []
    },
    {
      "cell_type": "markdown",
      "source": [
        "Karşımıza çıkan web sayfasında “New” butonuna\n",
        "tıklayarak Python projesi oluşturmak için “Python 3”\n",
        "kısmını seçelim"
      ],
      "metadata": {
        "id": "EUUdj59TLiRf"
      }
    },
    {
      "cell_type": "markdown",
      "source": [
        "Karşımıza çıkan kod satırı üzerinde işlemleri\n",
        "gerçekleştirebiliriz."
      ],
      "metadata": {
        "id": "vc7R2H2iLkxH"
      }
    },
    {
      "cell_type": "markdown",
      "source": [
        "** Python’da Matrisler**"
      ],
      "metadata": {
        "id": "wuQ_XdBYLl_d"
      }
    },
    {
      "cell_type": "code",
      "source": [
        "A = [[1,4,5],\n",
        "    [-5,8,9]]"
      ],
      "metadata": {
        "id": "77iOJ2PaLna4"
      },
      "execution_count": 1,
      "outputs": []
    },
    {
      "cell_type": "markdown",
      "source": [
        "2x3 boyutunda A isimli matris oluşturulmuştur."
      ],
      "metadata": {
        "id": "DdLfbHuQLqnr"
      }
    },
    {
      "cell_type": "code",
      "source": [
        "import numpy as np\n",
        "A = np.array([[1,2,3],[3,4,5]])"
      ],
      "metadata": {
        "id": "BlTw4p99Lv-2"
      },
      "execution_count": 3,
      "outputs": []
    },
    {
      "cell_type": "markdown",
      "source": [
        "İstenen boyutta, içeriği 0 veya 1 değerleri ile dolu\n",
        "matrislerin oluşumunda yardımcı metotlar da\n",
        "bulunmaktadır."
      ],
      "metadata": {
        "id": "dm9uddIVL1nZ"
      }
    },
    {
      "cell_type": "code",
      "source": [
        "import numpy as np\n",
        "array =np.zeros( (2,3) )\n",
        "print(array)"
      ],
      "metadata": {
        "colab": {
          "base_uri": "https://localhost:8080/"
        },
        "id": "vrQf18NdL3tH",
        "outputId": "8e5aca35-cc08-4e42-bf46-114eeb55e147"
      },
      "execution_count": 4,
      "outputs": [
        {
          "output_type": "stream",
          "name": "stdout",
          "text": [
            "[[0. 0. 0.]\n",
            " [0. 0. 0.]]\n"
          ]
        }
      ]
    },
    {
      "cell_type": "code",
      "source": [
        "import numpy as np\n",
        "array =np.ones( (1,5) )\n",
        "print(array)"
      ],
      "metadata": {
        "colab": {
          "base_uri": "https://localhost:8080/"
        },
        "id": "MDvWE8c_L9T7",
        "outputId": "e4704def-f6c8-4fe6-dcf6-8ba971f8788a"
      },
      "execution_count": 8,
      "outputs": [
        {
          "output_type": "stream",
          "name": "stdout",
          "text": [
            "[[1. 1. 1. 1. 1.]]\n"
          ]
        }
      ]
    },
    {
      "cell_type": "markdown",
      "source": [
        "Ve diğer bazı metotlar:"
      ],
      "metadata": {
        "id": "C2sZZ6guMB1-"
      }
    },
    {
      "cell_type": "code",
      "source": [
        "array =np.eye(1,5)\n",
        "print(array)"
      ],
      "metadata": {
        "colab": {
          "base_uri": "https://localhost:8080/"
        },
        "id": "y37Fy2_oMCrm",
        "outputId": "1d4516d4-5f8a-4291-9c60-f04dbff9b643"
      },
      "execution_count": 10,
      "outputs": [
        {
          "output_type": "stream",
          "name": "stdout",
          "text": [
            "[[1. 0. 0. 0. 0.]]\n"
          ]
        }
      ]
    },
    {
      "cell_type": "markdown",
      "source": [
        "numpy.eye(N, M=None, k=0, dtype=<class 'float'>, order='C', *, like=None)"
      ],
      "metadata": {
        "id": "ytpONF4SM9vX"
      }
    },
    {
      "cell_type": "markdown",
      "source": [
        "Parameters:\n",
        "\n",
        "N: int\n",
        "    Number of rows in the output.\n",
        "\n",
        "M: int, optional\n",
        "    Number of columns in the output. If None, defaults to N.\n",
        "\n",
        "k: int, optional\n",
        "    Index of the diagonal: 0 (the default) refers to the main diagonal, a positive value refers to an upper diagonal, and a negative value to a lower diagonal."
      ],
      "metadata": {
        "id": "yExivQEtMyDx"
      }
    },
    {
      "cell_type": "code",
      "source": [
        "np.random.randn()"
      ],
      "metadata": {
        "colab": {
          "base_uri": "https://localhost:8080/"
        },
        "id": "5Zx3Tu1XMuKx",
        "outputId": "0e178f16-0c63-4414-df5b-37102f8c21ac"
      },
      "execution_count": 11,
      "outputs": [
        {
          "output_type": "execute_result",
          "data": {
            "text/plain": [
              "1.8355402093135653"
            ]
          },
          "metadata": {},
          "execution_count": 11
        }
      ]
    },
    {
      "cell_type": "markdown",
      "source": [
        "Return a sample (or samples) from the “standard normal” distribution."
      ],
      "metadata": {
        "id": "N3WPB1ypNJ9r"
      }
    },
    {
      "cell_type": "code",
      "source": [
        "np.random.rand()"
      ],
      "metadata": {
        "colab": {
          "base_uri": "https://localhost:8080/"
        },
        "id": "RpyJt9PRNHLx",
        "outputId": "3e8d27aa-6554-4dea-a795-dd2c4f1939ab"
      },
      "execution_count": 13,
      "outputs": [
        {
          "output_type": "execute_result",
          "data": {
            "text/plain": [
              "0.44569491780710513"
            ]
          },
          "metadata": {},
          "execution_count": 13
        }
      ]
    },
    {
      "cell_type": "markdown",
      "source": [
        "Random values in a given shape."
      ],
      "metadata": {
        "id": "DIRZWzfvNTeL"
      }
    },
    {
      "cell_type": "code",
      "source": [
        "a = np.matrix('1 2; 3 4')\n",
        "print(a)"
      ],
      "metadata": {
        "colab": {
          "base_uri": "https://localhost:8080/"
        },
        "id": "b4GNPduLNQlp",
        "outputId": "7041ab6f-979f-4562-e574-8f73381ea8a8"
      },
      "execution_count": 16,
      "outputs": [
        {
          "output_type": "stream",
          "name": "stdout",
          "text": [
            "[[1 2]\n",
            " [3 4]]\n"
          ]
        }
      ]
    },
    {
      "cell_type": "markdown",
      "source": [
        "Returns a matrix from an array-like object, or from a string of data. A matrix is a specialized 2-D array that retains its 2-D nature through operations. It has certain special operators, such as * (matrix multiplication) and ** (matrix power)."
      ],
      "metadata": {
        "id": "0pqvj12WNg8h"
      }
    },
    {
      "cell_type": "markdown",
      "source": [
        "Python’da matris işlemlerini gerçekleştirmek için\n",
        "kullanılabilen bazı operatörler ve metotlar:\n"
      ],
      "metadata": {
        "id": "Sm0gouxZNjbE"
      }
    },
    {
      "cell_type": "markdown",
      "source": [
        "✓ +, -, *, /, **, math.cos(), math.sin(), sqrt(), dot(), T,\n",
        "transpose(), multiply(), matmul(), add(),\n",
        "subtract(), divide(), shape(), linalg.inv(),\n",
        "linalg.matrix_power(), size()"
      ],
      "metadata": {
        "id": "b9xdZSWlNknc"
      }
    },
    {
      "cell_type": "markdown",
      "source": [
        "Python değişkenleri için kurallar:\n",
        "✓Değişken adı bir harf veya alt çizgi karakteriyle başlamalıdır.\n",
        "✓Değişken adı bir sayı ile başlayamaz.\n",
        "✓Değişken adı yalnızca alfasayısal karakterler ve alt çizgiler\n",
        "içerebilir (A-z, 0-9 ve _ ).\n",
        "✓Değişken adları büyük/küçük harfe duyarlıdır (yaş, Yaş ve\n",
        "AGE üç farklı değişkendir).\n",
        "✓Değişken adının uzunluğu konusunda bir sınırlama yoktur"
      ],
      "metadata": {
        "id": "J0b3MNbzNnMB"
      }
    },
    {
      "cell_type": "markdown",
      "source": [
        "**IF Şart İfadesi**\n",
        "\n",
        "IF ifadesinin genel biçimi şu şekildedir:"
      ],
      "metadata": {
        "id": "e7uVzguuNq0A"
      }
    },
    {
      "cell_type": "code",
      "source": [
        "if condition_1:\n",
        "    statement_1\n",
        "elif condition_2:\n",
        "    statement_2\n",
        "elif condition_3\n",
        "    statement_3\n",
        "    ...\n",
        "else:\n",
        "    statement"
      ],
      "metadata": {
        "id": "zm1GlGgZNYNx"
      },
      "execution_count": null,
      "outputs": []
    },
    {
      "cell_type": "markdown",
      "source": [
        "**FOR ifadesi**\n",
        "\n",
        "FOR ifadesinin genel biçimi şu şekildedir:"
      ],
      "metadata": {
        "id": "vawmeq2UODx0"
      }
    },
    {
      "cell_type": "code",
      "source": [
        "for element in sequence:\n",
        "    body of for loop"
      ],
      "metadata": {
        "id": "2-8Ekju9OCPi"
      },
      "execution_count": null,
      "outputs": []
    },
    {
      "cell_type": "markdown",
      "source": [
        "**WHILE ifadesi**\n",
        "\n",
        "WHILE ifadesinin genel biçimi şu şekildedir:"
      ],
      "metadata": {
        "id": "4F2nuTqFOLvm"
      }
    },
    {
      "cell_type": "code",
      "source": [
        "while condition:\n",
        "    body of while loop"
      ],
      "metadata": {
        "id": "HXMHwO6POK5h"
      },
      "execution_count": null,
      "outputs": []
    },
    {
      "cell_type": "markdown",
      "source": [
        "**Fonksiyonlar**\n",
        "\n",
        "► Yazdığımız bir Python uygulamasındaki belli bir kod parçasını bir kaç yerde\n",
        "kullanma ihtiyacı duyduğumuzda fonksiyon oluşturmak işlerimizi kolaylaştırır.\n",
        "\n",
        "► Böyle durumlarda sürekli kullanacak olduğumuz kod satırlarını fonksiyonlar\n",
        "içine alıp istediğimiz zaman çağırıp çalıştırabiliriz."
      ],
      "metadata": {
        "id": "nqOtotM9Offp"
      }
    },
    {
      "cell_type": "code",
      "source": [
        "def power(a,b):\n",
        "    x = 1\n",
        "    for i in range(b):\n",
        "        x = x*a\n",
        "    return x\n",
        "power(2,3)    "
      ],
      "metadata": {
        "colab": {
          "base_uri": "https://localhost:8080/"
        },
        "id": "jel6-D5YOiqH",
        "outputId": "10645fd2-ae44-4935-f5f9-b6cfd0a0176b"
      },
      "execution_count": 29,
      "outputs": [
        {
          "output_type": "execute_result",
          "data": {
            "text/plain": [
              "8"
            ]
          },
          "metadata": {},
          "execution_count": 29
        }
      ]
    },
    {
      "cell_type": "markdown",
      "source": [
        "verilen sayının üstünü alan fonksiyon"
      ],
      "metadata": {
        "id": "O6_9wWtJQGxz"
      }
    },
    {
      "cell_type": "code",
      "source": [],
      "metadata": {
        "id": "JzBwu0gLPGwi"
      },
      "execution_count": null,
      "outputs": []
    }
  ]
}